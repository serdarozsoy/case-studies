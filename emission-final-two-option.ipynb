{
 "cells": [
  {
   "cell_type": "markdown",
   "id": "ff7e0c62",
   "metadata": {},
   "source": [
    " To calculate the potential for yearly reduction on CO2 emissions, caused by the taxi cabs roaming without passengers. In your calculation please assume that the taxi cab fleet is changing at the rate of 15% per month (from combustion engine-powered vehicles to electric vehicles). Assume also that the average passenger vehicle emits about 404 grams of CO2 per mile."
   ]
  },
  {
   "cell_type": "code",
   "execution_count": 1,
   "id": "ba2d5dd8",
   "metadata": {},
   "outputs": [],
   "source": [
    "import pandas as pd\n",
    "import matplotlib.pyplot as plt\n",
    "from geopy import distance\n",
    "from global_land_mask import globe\n",
    "import os\n",
    "from tqdm import tqdm"
   ]
  },
  {
   "cell_type": "code",
   "execution_count": 2,
   "id": "ddbff82e",
   "metadata": {},
   "outputs": [],
   "source": [
    "# To get filenames in data folder\n",
    "filelist = []\n",
    "for file in os.listdir(\"./data/\"):\n",
    "    if file.endswith(\".txt\"):\n",
    "        filelist.append(file)"
   ]
  },
  {
   "cell_type": "code",
   "execution_count": 3,
   "id": "8dd6b20c",
   "metadata": {},
   "outputs": [],
   "source": [
    "def find_car_tour_mile(data):\n",
    "    \"\"\"A function calculates total millage for a taxi cab during roaming without passengers.\n",
    "    Distance is calculated with distance package of geopy.\n",
    "    \n",
    "    Args:\n",
    "        data (pd.DataFrame): The dataframe for each car\n",
    "    \n",
    "    Returns:\n",
    "        car_total (float): total millage for a taxi\n",
    "    \"\"\"\n",
    "    car_total = 0\n",
    "    # divide data into \"tours\" according to \"occupancy\" changes\n",
    "    data[\"tour\"] = data.occupancy.diff().ne(0).cumsum()\n",
    "    # What is \"occupancy\" of the first entrance\n",
    "    if data[\"occupancy\"].iloc[0]==0:\n",
    "        start_index=1 \n",
    "    else:\n",
    "        start_index=2\n",
    "    # Then each two steps is the \"tour\" with \"occupancy=0\" \n",
    "    for i in range(start_index,max(data[\"tour\"])-1,2):\n",
    "        subset_df = data[data[\"tour\"] == i]\n",
    "        latlongs = [(x, y) for x, y in zip(subset_df[\"latitude\"],subset_df[\"longitude\"])]\n",
    "        sum_per_tour = 0\n",
    "        # Calculate distance with two sequential geocodes\n",
    "        for i in range(len(latlongs)-1):\n",
    "            sum_per_tour += distance.distance(latlongs[i],latlongs[i+1]).miles\n",
    "        car_total+= sum_per_tour\n",
    "    return car_total"
   ]
  },
  {
   "cell_type": "code",
   "execution_count": 4,
   "id": "403ee3fc",
   "metadata": {},
   "outputs": [
    {
     "name": "stderr",
     "output_type": "stream",
     "text": [
      "100%|████████████████████████████████████████████████████████████████████████████████████████████████████████████████████████████████████████████████████████████████████████████████████████████████████| 537/537 [17:09<00:00,  1.92s/it]\n"
     ]
    }
   ],
   "source": [
    "data = pd.DataFrame()\n",
    "all_cars = {}\n",
    "count = 0\n",
    "# calculate monthly roaming millage from data files of each taxi cab\n",
    "for i in tqdm(filelist):\n",
    "    data_sub=pd.read_csv('data/'+i, sep=' ', header=None)\n",
    "    car_name = i.split(\".\")[0].split(\"_\")[-1]\n",
    "    data_sub[\"car\"] = car_name\n",
    "    data_sub.columns = [\"latitude\", \"longitude\", \"occupancy\", \"time\",\"car\"]\n",
    "    data_sub[\"prev_occ\"] = data_sub[\"occupancy\"].shift(1).fillna(0).astype(int)\n",
    "    data_sub[\"prev_time\"] = data_sub[\"time\"].shift(1).fillna(0).astype(int)\n",
    "    data_sub[\"time_diff\"] = data_sub[\"time\"] - data_sub[\"prev_time\"]\n",
    "    # Remove data points on the sea\n",
    "    is_on_land = globe.is_land(data_sub[\"latitude\"], data_sub[\"longitude\"])\n",
    "    data_sub = data_sub[is_on_land]\n",
    "    # Calculation\n",
    "    car_miles = find_car_tour_mile(data_sub)\n",
    "    all_cars[car_name] = car_miles\n"
   ]
  },
  {
   "cell_type": "code",
   "execution_count": 5,
   "id": "c94ec6f4",
   "metadata": {},
   "outputs": [
    {
     "data": {
      "text/html": [
       "<div>\n",
       "<style scoped>\n",
       "    .dataframe tbody tr th:only-of-type {\n",
       "        vertical-align: middle;\n",
       "    }\n",
       "\n",
       "    .dataframe tbody tr th {\n",
       "        vertical-align: top;\n",
       "    }\n",
       "\n",
       "    .dataframe thead th {\n",
       "        text-align: right;\n",
       "    }\n",
       "</style>\n",
       "<table border=\"1\" class=\"dataframe\">\n",
       "  <thead>\n",
       "    <tr style=\"text-align: right;\">\n",
       "      <th></th>\n",
       "      <th>miles</th>\n",
       "    </tr>\n",
       "  </thead>\n",
       "  <tbody>\n",
       "    <tr>\n",
       "      <th>abboip</th>\n",
       "      <td>1939.659872</td>\n",
       "    </tr>\n",
       "    <tr>\n",
       "      <th>abcoij</th>\n",
       "      <td>78.763057</td>\n",
       "    </tr>\n",
       "    <tr>\n",
       "      <th>abdremlu</th>\n",
       "      <td>3829.357953</td>\n",
       "    </tr>\n",
       "    <tr>\n",
       "      <th>abgibo</th>\n",
       "      <td>2468.713641</td>\n",
       "    </tr>\n",
       "    <tr>\n",
       "      <th>abjoolaw</th>\n",
       "      <td>792.952103</td>\n",
       "    </tr>\n",
       "    <tr>\n",
       "      <th>...</th>\n",
       "      <td>...</td>\n",
       "    </tr>\n",
       "    <tr>\n",
       "      <th>uvburki</th>\n",
       "      <td>1230.349776</td>\n",
       "    </tr>\n",
       "    <tr>\n",
       "      <th>uvigcho</th>\n",
       "      <td>3370.064890</td>\n",
       "    </tr>\n",
       "    <tr>\n",
       "      <th>uvjeahot</th>\n",
       "      <td>2833.043103</td>\n",
       "    </tr>\n",
       "    <tr>\n",
       "      <th>uvjova</th>\n",
       "      <td>1622.033445</td>\n",
       "    </tr>\n",
       "    <tr>\n",
       "      <th>uvreoipy</th>\n",
       "      <td>2853.631425</td>\n",
       "    </tr>\n",
       "  </tbody>\n",
       "</table>\n",
       "<p>537 rows × 1 columns</p>\n",
       "</div>"
      ],
      "text/plain": [
       "                miles\n",
       "abboip    1939.659872\n",
       "abcoij      78.763057\n",
       "abdremlu  3829.357953\n",
       "abgibo    2468.713641\n",
       "abjoolaw   792.952103\n",
       "...               ...\n",
       "uvburki   1230.349776\n",
       "uvigcho   3370.064890\n",
       "uvjeahot  2833.043103\n",
       "uvjova    1622.033445\n",
       "uvreoipy  2853.631425\n",
       "\n",
       "[537 rows x 1 columns]"
      ]
     },
     "execution_count": 5,
     "metadata": {},
     "output_type": "execute_result"
    }
   ],
   "source": [
    "miles_data = pd.DataFrame.from_dict(all_cars, orient=\"index\", columns=[\"miles\"])\n",
    "miles_data "
   ]
  },
  {
   "cell_type": "code",
   "execution_count": 41,
   "id": "e761dffe",
   "metadata": {},
   "outputs": [],
   "source": [
    "# Number of cars in fleet (combustine engine-powered)\n",
    "fleet_comb_cars = len(all_cars)\n",
    "# Predefined average passenger vehicle CO2 emission per mile (grams)\n",
    "avg_co2_per_mile = 404\n",
    "# Monthly CO2 emition per car (combustine engine-powered)\n",
    "co2_g_month = sum(all_cars.values())/fleet_comb_cars*avg_co2_per_mile"
   ]
  },
  {
   "cell_type": "code",
   "execution_count": 42,
   "id": "21eafc78",
   "metadata": {},
   "outputs": [
    {
     "data": {
      "text/plain": [
       "2279.0120504238494"
      ]
     },
     "execution_count": 42,
     "metadata": {},
     "output_type": "execute_result"
    }
   ],
   "source": [
    "sum(all_cars.values())/fleet_comb_cars"
   ]
  },
  {
   "cell_type": "code",
   "execution_count": 37,
   "id": "31e28aad",
   "metadata": {},
   "outputs": [
    {
     "name": "stdout",
     "output_type": "stream",
     "text": [
      "month:  0\n",
      "fleet combustion cars:  537\n",
      "total potential due to roaming (tonne): 494.43\n",
      "month:  1\n",
      "fleet combustion cars:  456\n",
      "total potential due to roaming (tonne): 914.28\n",
      "month:  2\n",
      "fleet combustion cars:  375\n",
      "total potential due to roaming (tonne): 1259.55\n",
      "month:  3\n",
      "fleet combustion cars:  294\n",
      "total potential due to roaming (tonne): 1530.24\n",
      "month:  4\n",
      "fleet combustion cars:  213\n",
      "total potential due to roaming (tonne): 1726.35\n",
      "month:  5\n",
      "fleet combustion cars:  132\n",
      "total potential due to roaming (tonne): 1847.89\n",
      "month:  6\n",
      "fleet combustion cars:  51\n",
      "total potential due to roaming (tonne): 1894.84\n",
      "month:  7\n",
      "fleet combustion cars:  0\n",
      "total potential due to roaming (tonne): 1894.84\n",
      "month:  8\n",
      "fleet combustion cars:  0\n",
      "total potential due to roaming (tonne): 1894.84\n",
      "month:  9\n",
      "fleet combustion cars:  0\n",
      "total potential due to roaming (tonne): 1894.84\n",
      "month:  10\n",
      "fleet combustion cars:  0\n",
      "total potential due to roaming (tonne): 1894.84\n",
      "month:  11\n",
      "fleet combustion cars:  0\n",
      "total potential due to roaming (tonne): 1894.84\n"
     ]
    }
   ],
   "source": [
    "# Taxi cab fleet is changing at the rate of 15% per month (according to total number of cars)\n",
    "change_per_month = round(fleet_comb_cars*0.15)\n",
    "pot_reduction = 0\n",
    "for i in range(12):\n",
    "    print(\"month: \",i)\n",
    "    print(\"fleet combustion cars: \",fleet_comb_cars)\n",
    "    # Gram to tonne conversion \n",
    "    gram_to_tonne = 1e-6\n",
    "    # Cummulative potential reduction by month\n",
    "    pot_reduction += fleet_comb_cars*co2_g_month*gram_to_tonne\n",
    "    print('total potential due to roaming (tonne): {:.2f}'.format(pot_reduction))\n",
    "    # Number of cars (combustine engine-powered) for the next month\n",
    "    fleet_comb_cars = max(0, fleet_comb_cars-change_per_month)"
   ]
  },
  {
   "cell_type": "code",
   "execution_count": 43,
   "id": "8ea1b280",
   "metadata": {},
   "outputs": [
    {
     "name": "stdout",
     "output_type": "stream",
     "text": [
      "month:  0\n",
      "fleet combustion cars:  537\n",
      "total potential due to roaming (tonne): 494.43\n",
      "month:  1\n",
      "fleet combustion cars:  456\n",
      "total potential due to roaming (tonne): 914.28\n",
      "month:  2\n",
      "fleet combustion cars:  388\n",
      "total potential due to roaming (tonne): 1271.52\n",
      "month:  3\n",
      "fleet combustion cars:  330\n",
      "total potential due to roaming (tonne): 1575.35\n",
      "month:  4\n",
      "fleet combustion cars:  280\n",
      "total potential due to roaming (tonne): 1833.16\n",
      "month:  5\n",
      "fleet combustion cars:  238\n",
      "total potential due to roaming (tonne): 2052.29\n",
      "month:  6\n",
      "fleet combustion cars:  202\n",
      "total potential due to roaming (tonne): 2238.27\n",
      "month:  7\n",
      "fleet combustion cars:  172\n",
      "total potential due to roaming (tonne): 2396.64\n",
      "month:  8\n",
      "fleet combustion cars:  146\n",
      "total potential due to roaming (tonne): 2531.06\n",
      "month:  9\n",
      "fleet combustion cars:  124\n",
      "total potential due to roaming (tonne): 2645.23\n",
      "month:  10\n",
      "fleet combustion cars:  105\n",
      "total potential due to roaming (tonne): 2741.91\n",
      "month:  11\n",
      "fleet combustion cars:  89\n",
      "total potential due to roaming (tonne): 2823.85\n"
     ]
    }
   ],
   "source": [
    "# Taxi cab fleet is changing at the rate of 15% per month (according to combustion engine-powered cars)\n",
    "pot_reduction = 0\n",
    "for i in range(12):\n",
    "    print(\"month: \",i)\n",
    "    print(\"fleet combustion cars: \",fleet_comb_cars)\n",
    "    # Gram to tonne conversion \n",
    "    gram_to_tonne = 1e-6\n",
    "    # Cummulative potential reduction by month\n",
    "    pot_reduction += fleet_comb_cars*co2_g_month*gram_to_tonne\n",
    "    print('total potential due to roaming (tonne): {:.2f}'.format(pot_reduction))\n",
    "    # Number of cars (combustine engine-powered) for the next month\n",
    "    fleet_comb_cars = round(fleet_comb_cars*0.85)"
   ]
  }
 ],
 "metadata": {
  "kernelspec": {
   "display_name": "Python 3 (ipykernel)",
   "language": "python",
   "name": "python3"
  },
  "language_info": {
   "codemirror_mode": {
    "name": "ipython",
    "version": 3
   },
   "file_extension": ".py",
   "mimetype": "text/x-python",
   "name": "python",
   "nbconvert_exporter": "python",
   "pygments_lexer": "ipython3",
   "version": "3.7.0"
  }
 },
 "nbformat": 4,
 "nbformat_minor": 5
}
